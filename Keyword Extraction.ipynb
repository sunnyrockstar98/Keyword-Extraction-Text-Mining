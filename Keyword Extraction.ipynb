{
 "cells": [
  {
   "cell_type": "markdown",
   "metadata": {},
   "source": [
    "Here we take the JavaBasics pdf and use the rake library in python 3 to automatically find out keywords.\n",
    "At the end we also sort our keywords in order with respect to their weightage.\n",
    "Smartstoplist.txt is used as the stoppath for Smart words."
   ]
  },
  {
   "cell_type": "code",
   "execution_count": 1,
   "metadata": {},
   "outputs": [],
   "source": [
    "import rake\n",
    "import operator\n",
    "stoppath = \"SmartStoplist.txt\"\n"
   ]
  },
  {
   "cell_type": "code",
   "execution_count": 2,
   "metadata": {},
   "outputs": [],
   "source": [
    "rake_object = rake.Rake(stoppath,3,3,4)"
   ]
  },
  {
   "cell_type": "code",
   "execution_count": 23,
   "metadata": {},
   "outputs": [],
   "source": [
    "sample_file = open(\"data/docs/fao_test/JavaBasics-notes.txt\", 'r')\n",
    "text = sample_file.read()\n",
    "\n"
   ]
  },
  {
   "cell_type": "code",
   "execution_count": 24,
   "metadata": {
    "scrolled": true
   },
   "outputs": [
    {
     "name": "stdout",
     "output_type": "stream",
     "text": [
      "Keywords: [('// java code', 6.719909274193548), ('java runtime system', 6.349479166666667), ('primitive types', 4.485714285714286), ('++ code', 4.376470588235295), ('garbage collection', 4.222222222222222), ('byte code', 4.2), ('java basics', 4.1328125), ('java programs', 4.1328125), ('import java', 4.1328125), ('rights reserved', 4.0), ('java language', 3.9328125), ('string literal', 3.738095238095238), ('java objects', 3.674479166666667), ('allocate memory', 3.5384615384615383), ('null pointer', 3.475), ('array object', 3.4093406593406597), ('button */', 3.374307862679956), ('make array', 3.230769230769231), ('code', 2.2), ('java', 2.1328125), ('system', 1.9166666666666667), ('class', 1.8620689655172413), ('program', 1.75), ('array', 1.7307692307692308), ('comments', 1.6923076923076923), ('object', 1.6785714285714286), ('browser', 1.6666666666666667), ('init', 1.6666666666666667), ('equivalent', 1.6666666666666667), ('applet', 1.5757575757575757), ('string', 1.5714285714285714), ('applications', 1.5555555555555556), ('boolean', 1.5555555555555556), ('objects', 1.5416666666666667), ('memory', 1.5384615384615385), ('return', 1.5333333333333334), ('method', 1.5172413793103448), ('width', 1.5), ('make', 1.5), ('methods', 1.4444444444444444), ('called', 1.4444444444444444), ('applets', 1.4), ('null', 1.375), ('= null', 1.375), ('refer', 1.3333333333333333), ('int', 1.3076923076923077), ('button', 1.2790697674418605), ('button *', 1.2790697674418605), ('reference', 1.2222222222222223), ('operator', 1.2222222222222223), ('expr', 1.2222222222222223), ('platform', 1.2), ('= calloc', 1.2), ('data', 1.1896551724137931), ('note', 1.1666666666666667), ('heap', 1.1666666666666667), ('stack', 1.1), ('executed', 1.0), ('effect', 1.0), ('2003 jguru', 1.0), ('println', 1.0), ('buttons', 1.0), ('graphics', 1.0), ('similar', 1.0), ('sizeof', 1.0), ('pointers', 1.0), ('elements', 1.0), ('passed', 1.0)]\n"
     ]
    }
   ],
   "source": [
    "keywords = rake_object.run(text)\n",
    "print (\"Keywords:\", keywords)"
   ]
  },
  {
   "cell_type": "code",
   "execution_count": 31,
   "metadata": {},
   "outputs": [
    {
     "name": "stdout",
     "output_type": "stream",
     "text": [
      "Keyword:  // java code ,SCORE:    6.719909274193548\n",
      "Keyword:  java runtime system ,SCORE:    6.349479166666667\n",
      "Keyword:  primitive types ,SCORE:    4.485714285714286\n",
      "Keyword:  ++ code ,SCORE:    4.376470588235295\n",
      "Keyword:  garbage collection ,SCORE:    4.222222222222222\n",
      "Keyword:  byte code ,SCORE:    4.2\n",
      "Keyword:  java basics ,SCORE:    4.1328125\n",
      "Keyword:  java programs ,SCORE:    4.1328125\n",
      "Keyword:  import java ,SCORE:    4.1328125\n",
      "Keyword:  rights reserved ,SCORE:    4.0\n",
      "Keyword:  java language ,SCORE:    3.9328125\n",
      "Keyword:  string literal ,SCORE:    3.738095238095238\n",
      "Keyword:  java objects ,SCORE:    3.674479166666667\n",
      "Keyword:  allocate memory ,SCORE:    3.5384615384615383\n",
      "Keyword:  null pointer ,SCORE:    3.475\n",
      "Keyword:  array object ,SCORE:    3.4093406593406597\n",
      "Keyword:  button */ ,SCORE:    3.374307862679956\n",
      "Keyword:  make array ,SCORE:    3.230769230769231\n",
      "Keyword:  code ,SCORE:    2.2\n",
      "Keyword:  java ,SCORE:    2.1328125\n",
      "Keyword:  system ,SCORE:    1.9166666666666667\n",
      "Keyword:  class ,SCORE:    1.8620689655172413\n",
      "Keyword:  program ,SCORE:    1.75\n",
      "Keyword:  array ,SCORE:    1.7307692307692308\n",
      "Keyword:  comments ,SCORE:    1.6923076923076923\n",
      "Keyword:  object ,SCORE:    1.6785714285714286\n",
      "Keyword:  browser ,SCORE:    1.6666666666666667\n",
      "Keyword:  init ,SCORE:    1.6666666666666667\n",
      "Keyword:  equivalent ,SCORE:    1.6666666666666667\n",
      "Keyword:  applet ,SCORE:    1.5757575757575757\n",
      "Keyword:  string ,SCORE:    1.5714285714285714\n",
      "Keyword:  applications ,SCORE:    1.5555555555555556\n",
      "Keyword:  boolean ,SCORE:    1.5555555555555556\n",
      "Keyword:  objects ,SCORE:    1.5416666666666667\n",
      "Keyword:  memory ,SCORE:    1.5384615384615385\n",
      "Keyword:  return ,SCORE:    1.5333333333333334\n",
      "Keyword:  method ,SCORE:    1.5172413793103448\n",
      "Keyword:  width ,SCORE:    1.5\n",
      "Keyword:  make ,SCORE:    1.5\n",
      "Keyword:  methods ,SCORE:    1.4444444444444444\n",
      "Keyword:  called ,SCORE:    1.4444444444444444\n",
      "Keyword:  applets ,SCORE:    1.4\n",
      "Keyword:  null ,SCORE:    1.375\n",
      "Keyword:  = null ,SCORE:    1.375\n",
      "Keyword:  refer ,SCORE:    1.3333333333333333\n",
      "Keyword:  int ,SCORE:    1.3076923076923077\n",
      "Keyword:  button ,SCORE:    1.2790697674418605\n",
      "Keyword:  button * ,SCORE:    1.2790697674418605\n",
      "Keyword:  reference ,SCORE:    1.2222222222222223\n",
      "Keyword:  operator ,SCORE:    1.2222222222222223\n",
      "Keyword:  expr ,SCORE:    1.2222222222222223\n",
      "Keyword:  platform ,SCORE:    1.2\n",
      "Keyword:  = calloc ,SCORE:    1.2\n",
      "Keyword:  data ,SCORE:    1.1896551724137931\n",
      "Keyword:  note ,SCORE:    1.1666666666666667\n",
      "Keyword:  heap ,SCORE:    1.1666666666666667\n",
      "Keyword:  stack ,SCORE:    1.1\n",
      "Keyword:  executed ,SCORE:    1.0\n",
      "Keyword:  effect ,SCORE:    1.0\n",
      "Keyword:  2003 jguru ,SCORE:    1.0\n",
      "Keyword:  println ,SCORE:    1.0\n",
      "Keyword:  buttons ,SCORE:    1.0\n",
      "Keyword:  graphics ,SCORE:    1.0\n",
      "Keyword:  similar ,SCORE:    1.0\n",
      "Keyword:  sizeof ,SCORE:    1.0\n",
      "Keyword:  pointers ,SCORE:    1.0\n",
      "Keyword:  elements ,SCORE:    1.0\n",
      "Keyword:  passed ,SCORE:    1.0\n"
     ]
    }
   ],
   "source": [
    "for keyword in keywords[0:len(keywords)]:\n",
    "    print (\"Keyword: \", keyword[0], \",SCORE:   \", keyword[1])\n"
   ]
  },
  {
   "cell_type": "code",
   "execution_count": 32,
   "metadata": {},
   "outputs": [
    {
     "name": "stdout",
     "output_type": "stream",
     "text": [
      "68\n"
     ]
    }
   ],
   "source": [
    "print(len(keywords))"
   ]
  }
 ],
 "metadata": {
  "kernelspec": {
   "display_name": "Python 3",
   "language": "python",
   "name": "python3"
  },
  "language_info": {
   "codemirror_mode": {
    "name": "ipython",
    "version": 3
   },
   "file_extension": ".py",
   "mimetype": "text/x-python",
   "name": "python",
   "nbconvert_exporter": "python",
   "pygments_lexer": "ipython3",
   "version": "3.6.4"
  }
 },
 "nbformat": 4,
 "nbformat_minor": 2
}
